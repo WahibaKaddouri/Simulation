{
 "cells": [
  {
   "cell_type": "code",
   "execution_count": 60,
   "metadata": {},
   "outputs": [
    {
     "name": "stdout",
     "output_type": "stream",
     "text": [
      "Simulation clients et un seul serveur \n",
      " 0.0000 Client00: Arrivée\n",
      " 0.0000 Client00: Temps dattente  0.000\n",
      " 0.3039 Client00: Départ\n",
      "10.2006 Client01: Arrivée\n",
      "10.2006 Client01: Temps dattente  0.000\n",
      "13.2316 Client01: Départ\n",
      "13.4168 Client02: Arrivée\n",
      "13.4168 Client02: Temps dattente  0.000\n",
      "26.7528 Client03: Arrivée\n",
      "26.9669 Client02: Départ\n",
      "26.9669 Client03: Temps dattente  0.214\n",
      "28.0583 Client03: Départ\n",
      "49.0257 Client04: Arrivée\n",
      "49.0257 Client04: Temps dattente  0.000\n",
      "49.3887 Client04: Départ\n",
      "54.5061 Client05: Arrivée\n",
      "54.5061 Client05: Temps dattente  0.000\n",
      "56.9733 Client06: Arrivée\n",
      "57.2422 Client07: Arrivée\n",
      "59.4591 Client08: Arrivée\n",
      "62.9531 Client05: Départ\n",
      "62.9531 Client06: Temps dattente  5.980\n",
      "69.9541 Client09: Arrivée\n",
      "72.4011 Client06: Départ\n",
      "72.4011 Client07: Temps dattente 15.159\n",
      "83.0788 Client07: Départ\n",
      "83.0788 Client08: Temps dattente 23.620\n",
      "102.9716 Client08: Départ\n",
      "102.9716 Client09: Temps dattente 33.018\n",
      "103.0499 Client09: Départ\n"
     ]
    }
   ],
   "source": [
    "import random\n",
    "\n",
    "import simpy\n",
    "\n",
    "\n",
    "RANDOM_SEED = 42\n",
    "NEW_Clients = 10  # Nombre total de clients\n",
    "INTERVAL_Clients = 10.0   #pour la generation aléatoire des clients\n",
    "\n",
    "\n",
    "def source(env, nbr, interval, service):\n",
    "    \"\"\"Source generates customers randomly\"\"\"\n",
    "    for i in range(nbr):\n",
    "        c = customer(env, 'Client%02d' % i, service, temps_service=12.0)\n",
    "        env.process(c)\n",
    "        #generer des temps d'arrivées aleatoires avec la distribution expo (1/mean) qui donne des\n",
    "        #chiffres de 0 a +l'infin si mean et pos et -infini 0 si mean est negatif, le mean est egal a interva\n",
    "        t = random.expovariate(1.0 / interval)\n",
    "        yield env.timeout(t)\n",
    "\n",
    "\n",
    "def customer(env, nom, service, temps_service):\n",
    "    \"\"\"Client arrive, est servi puis quitte\"\"\"\n",
    "    arrivee = env.now\n",
    "    print('%7.4f %s: Arrivée' % (arrivee, nom))\n",
    "\n",
    "    with service.request() as req:\n",
    "            \n",
    "            # Attendre que le service soit libre\n",
    "            results = yield req \n",
    "            attente = env.now - arrivee\n",
    "            # Client peut etre servi car le client precedent a terminé\n",
    "            print('%7.4f %s: Temps d''attente %6.3f' % (env.now, nom, attente))\n",
    "            # Client est servi avec un temps de service generé alétoirement tib avec la distribution exp\n",
    "            tib = random.expovariate(1.0 / temps_service)\n",
    "            yield env.timeout(tib)\n",
    "            # Le cleint termine et quitte le service\n",
    "            print('%7.4f %s: Départ' % (env.now, nom))\n",
    "\n",
    "         \n",
    "\n",
    "    \n",
    "        \n",
    "\n",
    "# lancer la simulation\n",
    "print('Simulation clients et un seul serveur ')\n",
    "random.seed(RANDOM_SEED)\n",
    "env = simpy.Environment()\n",
    "\n",
    "# Injecter les clients dans le systeme et exceuter \n",
    "# Definir un seul serveur qui sert un client a la fois \n",
    "service = simpy.Resource(env, capacity=1)\n",
    "env.process(source(env, NEW_Clients, INTERVAL_Clients, service))\n",
    "env.run()"
   ]
  },
  {
   "cell_type": "code",
   "execution_count": 2,
   "metadata": {},
   "outputs": [],
   "source": [
    "\n"
   ]
  },
  {
   "cell_type": "code",
   "execution_count": 3,
   "metadata": {},
   "outputs": [
    {
     "name": "stdout",
     "output_type": "stream",
     "text": [
      "Bank renege\n",
      " 0.0000 Customer00: Here I am\n",
      " 0.0000 Customer00: Waited  0.000\n",
      " 3.8595 Customer00: Finished\n",
      "10.2006 Customer01: Here I am\n",
      "10.2006 Customer01: Waited  0.000\n",
      "12.7265 Customer02: Here I am\n",
      "13.9003 Customer02: RENEGED after  1.174\n",
      "23.7507 Customer01: Finished\n",
      "34.9993 Customer03: Here I am\n",
      "34.9993 Customer03: Waited  0.000\n",
      "37.9599 Customer03: Finished\n",
      "40.4798 Customer04: Here I am\n",
      "40.4798 Customer04: Waited  0.000\n",
      "43.1401 Customer04: Finished\n"
     ]
    }
   ],
   "source": [
    "\n"
   ]
  },
  {
   "cell_type": "code",
   "execution_count": null,
   "metadata": {},
   "outputs": [],
   "source": []
  }
 ],
 "metadata": {
  "kernelspec": {
   "display_name": "Python 3",
   "language": "python",
   "name": "python3"
  },
  "language_info": {
   "codemirror_mode": {
    "name": "ipython",
    "version": 3
   },
   "file_extension": ".py",
   "mimetype": "text/x-python",
   "name": "python",
   "nbconvert_exporter": "python",
   "pygments_lexer": "ipython3",
   "version": "3.6.4"
  }
 },
 "nbformat": 4,
 "nbformat_minor": 2
}
